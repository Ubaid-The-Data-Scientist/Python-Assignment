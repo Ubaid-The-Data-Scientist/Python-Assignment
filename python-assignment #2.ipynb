{
 "cells": [
  {
   "cell_type": "code",
   "execution_count": 1,
   "metadata": {},
   "outputs": [
    {
     "name": "stdout",
     "output_type": "stream",
     "text": [
      "Enter your marks out of 100\n",
      "Mathematics: 81\n",
      "Physics: 75\n",
      "Chemistry: 80\n",
      "English: 59\n",
      "Urdu: 55\n",
      "Total Marks: 350\n",
      "Out of: 500\n",
      "Percentage%: 70.0\n",
      "Grade: A\n"
     ]
    }
   ],
   "source": [
    "#Answer no.1\n",
    "print(\"Enter your marks out of 100\")\n",
    "a = int(input(\"Mathematics: \"))\n",
    "b = int(input(\"Physics: \"))\n",
    "c = int(input(\"Chemistry: \"))\n",
    "d = int(input(\"English: \"))\n",
    "e = int(input(\"Urdu: \"))\n",
    "\n",
    "total = a + b + c + d + e\n",
    "print(\"Total Marks:\", total)\n",
    "print(\"Out of: 500\")\n",
    "\n",
    "per = (total/500)*100\n",
    "print(\"Percentage%:\", per)\n",
    "\n",
    "if per >= 80 and per < 100:\n",
    "  print(\"Grade: A+\")\n",
    "elif per >= 70 and per < 80:\n",
    "  print(\"Grade: A\")\n",
    "elif per >= 60 and per < 70: \n",
    "  print(\"Grade: B\")\n",
    "elif per >= 50 and per < 60: \n",
    "  print(\"Grade: C\")\n",
    "elif per >= 40 and per < 50: \n",
    "  print(\"Grade: D\")\n",
    "elif per >= 33 and per < 40: \n",
    "  print(\"Grade: E\")\n",
    "elif per >= 0 and per < 33:\n",
    "  print(\"Grade: Fail\")"
   ]
  },
  {
   "cell_type": "code",
   "execution_count": 3,
   "metadata": {},
   "outputs": [
    {
     "name": "stdout",
     "output_type": "stream",
     "text": [
      "Enter a number: 112\n",
      "112 is Even\n"
     ]
    }
   ],
   "source": [
    "#Answer no.2\n",
    "num = int(input(\"Enter a number: \"))\n",
    "if (num % 2) == 0:\n",
    "   print(num, \"is Even\")\n",
    "else:\n",
    "   print(num, \"is Odd\")"
   ]
  },
  {
   "cell_type": "code",
   "execution_count": 4,
   "metadata": {},
   "outputs": [
    {
     "name": "stdout",
     "output_type": "stream",
     "text": [
      "['ubaid', 'ali', 'khan', 'age', 18]\n",
      "Lenght of the above list is: 5\n"
     ]
    }
   ],
   "source": [
    "#Answer no.3\n",
    "a = [\"ubaid\", \"ali\", \"khan\", \"age\", 18]\n",
    "print(a)\n",
    "print(\"Lenght of the above list is:\", len(a))"
   ]
  },
  {
   "cell_type": "code",
   "execution_count": 5,
   "metadata": {},
   "outputs": [
    {
     "name": "stdout",
     "output_type": "stream",
     "text": [
      "[18, 55, 45, 31, 90, 77, 11]\n",
      "Sum of numbers in the list= 327\n"
     ]
    }
   ],
   "source": [
    "#Answer no.4\n",
    "a = [18, 55, 45, 31, 90, 77, 11]\n",
    "print(a)\n",
    "b = sum(a)\n",
    "print(\"Sum of numbers in the list=\", b)"
   ]
  },
  {
   "cell_type": "code",
   "execution_count": 6,
   "metadata": {},
   "outputs": [
    {
     "name": "stdout",
     "output_type": "stream",
     "text": [
      "[18, 55, 45, 31, 90, 77, 11]\n",
      "Largest number is: 90\n"
     ]
    }
   ],
   "source": [
    "#Answer no.5\n",
    "a = [18, 55, 45, 31, 90, 77, 11]\n",
    "print(a)\n",
    "print(\"Largest number is:\", max(a))"
   ]
  },
  {
   "cell_type": "code",
   "execution_count": 12,
   "metadata": {},
   "outputs": [
    {
     "name": "stdout",
     "output_type": "stream",
     "text": [
      "Following are the numbers which are less than 5\n",
      "1\n",
      "1\n",
      "2\n",
      "3\n"
     ]
    }
   ],
   "source": [
    "#Answer no.6\n",
    "print(\"Following are the numbers which are less than 5\")\n",
    "a = [1, 1, 2, 3, 5, 8, 13, 21, 34, 55, 89]\n",
    "for b in a:\n",
    "  if b < 5:\n",
    "    print(b)"
   ]
  },
  {
   "cell_type": "code",
   "execution_count": null,
   "metadata": {},
   "outputs": [],
   "source": []
  }
 ],
 "metadata": {
  "kernelspec": {
   "display_name": "Python 3",
   "language": "python",
   "name": "python3"
  },
  "language_info": {
   "codemirror_mode": {
    "name": "ipython",
    "version": 3
   },
   "file_extension": ".py",
   "mimetype": "text/x-python",
   "name": "python",
   "nbconvert_exporter": "python",
   "pygments_lexer": "ipython3",
   "version": "3.7.4"
  }
 },
 "nbformat": 4,
 "nbformat_minor": 2
}
