{
 "cells": [
  {
   "cell_type": "code",
   "execution_count": 1,
   "metadata": {},
   "outputs": [
    {
     "data": {
      "text/plain": [
       "120"
      ]
     },
     "execution_count": 1,
     "metadata": {},
     "output_type": "execute_result"
    }
   ],
   "source": [
    "#Answer no.1\n",
    "\n",
    "def factorial(n):\n",
    "    if n == 0 or n == 1:\n",
    "        return 1\n",
    "    else:\n",
    "        return n * factorial(n-1)\n",
    "    print(factorial(n))\n",
    "\n",
    "factorial(5)"
   ]
  },
  {
   "cell_type": "code",
   "execution_count": 10,
   "metadata": {},
   "outputs": [
    {
     "name": "stdout",
     "output_type": "stream",
     "text": [
      "Enter string: Ubaid Ali Khan\n",
      "There are 11 lower case letters\n",
      "There are 3 upper case letters\n"
     ]
    }
   ],
   "source": [
    "#Answer no.2\n",
    "\n",
    "n = input(\"Enter string: \")\n",
    "def case(n):\n",
    "    upper_case = 0\n",
    "    lower_case = 0\n",
    "    for letter in n:\n",
    "        if letter == letter.lower():\n",
    "            lower_case += 1\n",
    "        elif letter == letter.upper():\n",
    "            upper_case += 1\n",
    "    print(\"There are\", lower_case, \"lower case letters\")\n",
    "    print(\"There are\", upper_case, \"upper case letters\")\n",
    "\n",
    "case(n)"
   ]
  },
  {
   "cell_type": "code",
   "execution_count": 11,
   "metadata": {},
   "outputs": [
    {
     "name": "stdout",
     "output_type": "stream",
     "text": [
      "2\n",
      "4\n",
      "6\n",
      "8\n",
      "10\n"
     ]
    }
   ],
   "source": [
    "#Answer no.3\n",
    "\n",
    "def even(n):\n",
    "    for number in n:\n",
    "        if number % 2 == 0:\n",
    "            print(number)\n",
    "            \n",
    "even([1,2,3,4,5,6,7,8,9,10])"
   ]
  },
  {
   "cell_type": "code",
   "execution_count": 15,
   "metadata": {},
   "outputs": [
    {
     "name": "stdout",
     "output_type": "stream",
     "text": [
      "Enter any word: madam\n",
      "madam is a palindrome string.\n"
     ]
    }
   ],
   "source": [
    "#Answer no.4\n",
    "\n",
    "n = input(\"Enter any word: \")\n",
    "def palindrome(n):\n",
    "    if n == n[::-1]:\n",
    "        print(n, \"is a palindrome string.\")\n",
    "    else:\n",
    "        print(n, \"is not a palindrome string.\")\n",
    "\n",
    "palindrome(n)"
   ]
  },
  {
   "cell_type": "code",
   "execution_count": 16,
   "metadata": {},
   "outputs": [
    {
     "name": "stdout",
     "output_type": "stream",
     "text": [
      "Enter a number: 13\n",
      "13 is a prime number.\n"
     ]
    }
   ],
   "source": [
    "#Answer no.5\n",
    "\n",
    "def Prime(n):\n",
    "    if n < 4:\n",
    "        return True\n",
    "    else:\n",
    "        for i in range(2,n//2+1):\n",
    "            if n % i == 0:\n",
    "                return True\n",
    "        return False\n",
    "\n",
    "n = int(input(\"Enter a number: \"))\n",
    "if Prime(n):\n",
    "    print(n,\"is not a prime number.\")\n",
    "else:\n",
    "    print(n,\"is a prime number.\")"
   ]
  },
  {
   "cell_type": "code",
   "execution_count": 17,
   "metadata": {},
   "outputs": [
    {
     "name": "stdout",
     "output_type": "stream",
     "text": [
      "shoes\n",
      "glasses\n",
      "belt\n",
      "watch\n"
     ]
    }
   ],
   "source": [
    "#Answer no.6\n",
    "\n",
    "def shopping(*slist):\n",
    "    for i in slist:\n",
    "        print(i)\n",
    "        \n",
    "shopping(\"shoes\", \"glasses\", \"belt\")\n",
    "shopping(\"watch\")"
   ]
  },
  {
   "cell_type": "code",
   "execution_count": null,
   "metadata": {},
   "outputs": [],
   "source": []
  }
 ],
 "metadata": {
  "kernelspec": {
   "display_name": "Python 3",
   "language": "python",
   "name": "python3"
  },
  "language_info": {
   "codemirror_mode": {
    "name": "ipython",
    "version": 3
   },
   "file_extension": ".py",
   "mimetype": "text/x-python",
   "name": "python",
   "nbconvert_exporter": "python",
   "pygments_lexer": "ipython3",
   "version": "3.7.4"
  }
 },
 "nbformat": 4,
 "nbformat_minor": 2
}
