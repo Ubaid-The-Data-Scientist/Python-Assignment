{
 "cells": [
  {
   "cell_type": "markdown",
   "metadata": {},
   "source": [
    "# Question no.1\n",
    "### Define Object Oriented Programming Language?\n",
    "Object oriented programming is a paradigm in which real-world objects are each viewed as seperate entities, having their own state.\n",
    "\n"
   ]
  },
  {
   "cell_type": "markdown",
   "metadata": {},
   "source": [
    "# Question no.2\n",
    "### List down the Benefits of OOP?\n",
    "    -Programming gets easy and efficient.\n",
    "    -The class is sharable and codes can be reused.\n",
    "    -The productivity of programmers increases.\n",
    "    -Data is safe and secure with data abstraction."
   ]
  },
  {
   "cell_type": "markdown",
   "metadata": {},
   "source": [
    "# Question no.3\n",
    "### Differentiate between function and method?\n",
    "A method in python is somewhat similar to a function, except it is associated with classes. It has two major differences. The method is implicitly used for an object for which it is called. The method is accessible to data that is contained within the class."
   ]
  },
  {
   "cell_type": "markdown",
   "metadata": {},
   "source": [
    "# Question no.4\n",
    "### Define the following terms: Class, Object, Attribute, Behavior\n",
    "##### Class: \n",
    "    A class is a template or blueprint about the capability of what an object can do.\n",
    "##### Object:\n",
    "    An object is an instantation of a class. Object is used to access the data of class.\n",
    "##### Attribute:\n",
    "    Attributes are the variables that are defined inside a class. We can also referred them as properties of an object.\n",
    "##### Behaviour:\n",
    "    Behaviors are the methods corresponding to the behavior of real world objects."
   ]
  },
  {
   "cell_type": "markdown",
   "metadata": {},
   "source": [
    "# Question no.5\n",
    "### Write a code in python in which create a class named it Car which have 5 attributes such like (model, color and name etc.) and 3 methods. And create 5 object instance from that class."
   ]
  },
  {
   "cell_type": "code",
   "execution_count": 1,
   "metadata": {},
   "outputs": [
    {
     "name": "stdout",
     "output_type": "stream",
     "text": [
      "Car 1\n",
      "Name          : Civic\n",
      "Model         : 2019\n",
      "Color         : Black\n",
      "Company       : Honda\n",
      "Transmission  : Automatic \n",
      "--------------------------\n",
      "Car 2\n",
      "Name          : Coure\n",
      "Model         : 2009\n",
      "Color         : Brown\n",
      "Company       : Diahatsu\n",
      "Transmission  : Manual \n",
      "--------------------------\n",
      "Car 3\n",
      "Name          : Corolla\n",
      "Model         : 2016\n",
      "Color         : Black\n",
      "Company       : Toyota\n",
      "Transmission  : Automatic \n",
      "--------------------------\n",
      "Car 4\n",
      "Name          : Mehran\n",
      "Model         : 2017\n",
      "Color         : Grey\n",
      "Company       : Suzuki\n",
      "Transmission  : Manual \n",
      "--------------------------\n",
      "Car 5\n",
      "Name          : City\n",
      "Model         : 2018\n",
      "Color         : White\n",
      "Company       : Honda\n",
      "Transmission  : Automatic \n",
      "--------------------------\n",
      "Car 2 old model:  2009\n",
      "Car 2 new model:  2015 \n",
      "--------------------------\n",
      "Car 2 old color:  Brown\n",
      "Car 2 new color:  White \n",
      "--------------------------\n",
      "Car 2 old transmission:  Manual\n",
      "Car 2 new transmission:  Automatic \n",
      "--------------------------\n"
     ]
    }
   ],
   "source": [
    "class Car():\n",
    "    def __init__(self, name, model, color, company, transmission):\n",
    "        self.name = name\n",
    "        self.model = model\n",
    "        self.color = color\n",
    "        self.company = company\n",
    "        self.transmission = transmission\n",
    "\n",
    "    ##method for updating model \n",
    "    def updatemodel(self,newmodel):\n",
    "        self.model = newmodel\n",
    "        \n",
    "    ##method for updating color\n",
    "    def updatecolor(self,newcolor):\n",
    "        self.color = newcolor\n",
    "        \n",
    "    ##method for updating transmission\n",
    "    def updatetransmission(self,newtransmission):\n",
    "        self.transmission = newtransmission\n",
    "        \n",
    "car1 = Car(\"Civic\", 2019, \"Black\", \"Honda\", \"Automatic\")\n",
    "print(\"Car 1\")\n",
    "print(\"Name          :\", car1.name)\n",
    "print(\"Model         :\", car1.model)\n",
    "print(\"Color         :\", car1.color)\n",
    "print(\"Company       :\", car1.company)\n",
    "print(\"Transmission  :\", car1.transmission, \"\\n--------------------------\")\n",
    "\n",
    "car2 = Car(\"Coure\", 2009, \"Brown\", \"Diahatsu\", \"Manual\")\n",
    "print(\"Car 2\")\n",
    "print(\"Name          :\", car2.name)\n",
    "print(\"Model         :\", car2.model)\n",
    "print(\"Color         :\", car2.color)\n",
    "print(\"Company       :\", car2.company)\n",
    "print(\"Transmission  :\", car2.transmission, \"\\n--------------------------\" )\n",
    "\n",
    "car3 = Car(\"Corolla\", 2016, \"Black\", \"Toyota\", \"Automatic\")\n",
    "print(\"Car 3\")\n",
    "print(\"Name          :\", car3.name)\n",
    "print(\"Model         :\", car3.model)\n",
    "print(\"Color         :\", car3.color)\n",
    "print(\"Company       :\", car3.company)\n",
    "print(\"Transmission  :\", car3.transmission, \"\\n--------------------------\")\n",
    "\n",
    "car4 = Car(\"Mehran\", 2017, \"Grey\", \"Suzuki\", \"Manual\")\n",
    "print(\"Car 4\")\n",
    "print(\"Name          :\", car4.name)\n",
    "print(\"Model         :\", car4.model)\n",
    "print(\"Color         :\", car4.color)\n",
    "print(\"Company       :\", car4.company)\n",
    "print(\"Transmission  :\", car4.transmission, \"\\n--------------------------\")\n",
    "\n",
    "car5 = Car(\"City\", 2018, \"White\", \"Honda\", \"Automatic\")\n",
    "print(\"Car 5\")\n",
    "print(\"Name          :\", car5.name)\n",
    "print(\"Model         :\", car5.model)\n",
    "print(\"Color         :\", car5.color)\n",
    "print(\"Company       :\", car5.company)\n",
    "print(\"Transmission  :\", car5.transmission, \"\\n--------------------------\")\n",
    "\n",
    "##updating attributes\n",
    "print(\"Car 2 old model: \", car2.model)\n",
    "car2.updatemodel(\"2015\")\n",
    "print(\"Car 2 new model: \", car2.model, \"\\n--------------------------\")\n",
    "\n",
    "print(\"Car 2 old color: \", car2.color)\n",
    "car2.updatecolor(\"White\")\n",
    "print(\"Car 2 new color: \", car2.color, \"\\n--------------------------\")\n",
    "\n",
    "print(\"Car 2 old transmission: \", car2.transmission)\n",
    "car2.updatetransmission(\"Automatic\")\n",
    "print(\"Car 2 new transmission: \", car2.transmission, \"\\n--------------------------\")"
   ]
  },
  {
   "cell_type": "code",
   "execution_count": null,
   "metadata": {},
   "outputs": [],
   "source": []
  }
 ],
 "metadata": {
  "kernelspec": {
   "display_name": "Python 3",
   "language": "python",
   "name": "python3"
  },
  "language_info": {
   "codemirror_mode": {
    "name": "ipython",
    "version": 3
   },
   "file_extension": ".py",
   "mimetype": "text/x-python",
   "name": "python",
   "nbconvert_exporter": "python",
   "pygments_lexer": "ipython3",
   "version": "3.7.4"
  }
 },
 "nbformat": 4,
 "nbformat_minor": 2
}
