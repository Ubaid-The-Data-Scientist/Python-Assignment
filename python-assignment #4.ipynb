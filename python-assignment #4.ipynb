{
 "cells": [
  {
   "cell_type": "code",
   "execution_count": 1,
   "metadata": {},
   "outputs": [
    {
     "name": "stdout",
     "output_type": "stream",
     "text": [
      "First name: Ashfaq\n",
      "Last name: Khan\n",
      "Age: 35\n",
      "City: Abu Dhabi\n",
      "{'first_name': 'Ashfaq', 'last_name': 'Khan', 'age': 35, 'city': 'Abu Dhabi', 'qualification': 'MBA'}\n",
      "{'first_name': 'Ashfaq', 'last_name': 'Khan', 'age': 35, 'city': 'Abu Dhabi', 'qualification': 'High academic level'}\n",
      "{'first_name': 'Ashfaq', 'last_name': 'Khan', 'age': 35, 'city': 'Abu Dhabi'}\n"
     ]
    }
   ],
   "source": [
    "#Answer no.1\n",
    "info = {\n",
    "    \"first_name\" : \"Ashfaq\",\n",
    "    \"last_name\" : \"Khan\",\n",
    "    \"age\" : 35,\n",
    "    \"city\" : \"Abu Dhabi\"\n",
    "}\n",
    "\n",
    "print(\"First name:\", info[\"first_name\"])\n",
    "print(\"Last name:\", info[\"last_name\"])\n",
    "print(\"Age:\", info[\"age\"])\n",
    "print(\"City:\", info[\"city\"])\n",
    "\n",
    "info[\"qualification\"] = \"MBA\"\n",
    "print(info)\n",
    "\n",
    "info[\"qualification\"] = \"High academic level\"\n",
    "print(info)\n",
    "\n",
    "del info[\"qualification\"]\n",
    "print(info)"
   ]
  },
  {
   "cell_type": "code",
   "execution_count": 2,
   "metadata": {},
   "outputs": [
    {
     "name": "stdout",
     "output_type": "stream",
     "text": [
      "Tokyo =  {'country': 'Japan', 'population': 37800000, 'fact': 'Most populated city'} \n",
      "\n",
      "Jericho =  {'country': 'Palestine', 'population': 18346, 'fact': 'Lowest city'} \n",
      "\n",
      "Yakutsk =  {'country': 'Russia', 'population': 269601, 'fact': 'Coldest city'}\n"
     ]
    }
   ],
   "source": [
    "#Answer no.2\n",
    "cities = {\n",
    "    \"Tokyo\" : {\n",
    "        \"country\" : \"Japan\",\n",
    "        \"population\" : 37800000,\n",
    "        \"fact\" : \"Most populated city\"\n",
    "    },\n",
    "    \"Jericho\" : {\n",
    "        \"country\" : \"Palestine\",\n",
    "        \"population\" : 18346,\n",
    "        \"fact\" : \"Lowest city\"\n",
    "    },\n",
    "    \"Yakutsk\" : {\n",
    "        \"country\" : \"Russia\",\n",
    "        \"population\" : 269601,\n",
    "        \"fact\" : \"Coldest city\"\n",
    "    }\n",
    "}\n",
    "\n",
    "print(\"Tokyo = \", cities[\"Tokyo\"], \"\\n\")\n",
    "print(\"Jericho = \", cities[\"Jericho\"], \"\\n\")\n",
    "print(\"Yakutsk = \", cities[\"Yakutsk\"])"
   ]
  },
  {
   "cell_type": "code",
   "execution_count": 3,
   "metadata": {},
   "outputs": [
    {
     "name": "stdout",
     "output_type": "stream",
     "text": [
      "Enter your age: 9\n",
      "  Your ticket is $10\n"
     ]
    }
   ],
   "source": [
    "#Answer no.3\n",
    "age = int(input(\"Enter your age: \"))\n",
    "\n",
    "if age < 3:\n",
    "    print(\"  Your ticket is free\")\n",
    "elif age >= 3 and age <= 12:\n",
    "    print(\"  Your ticket is $10\")\n",
    "elif age > 12:\n",
    "    print(\"  Your ticket is $15.\")\n",
    "else:\n",
    "    print(\"Enter appropiate age\")"
   ]
  },
  {
   "cell_type": "code",
   "execution_count": 4,
   "metadata": {},
   "outputs": [
    {
     "name": "stdout",
     "output_type": "stream",
     "text": [
      "The Abstract Wild\n",
      " One of my favorite book is Alice in Wonderland\n"
     ]
    }
   ],
   "source": [
    "#Answer no.4\n",
    "def favorite_book(title):\n",
    "    print(title + \"\\n\" + \" One of my favorite book is Alice in Wonderland\")\n",
    "\n",
    "favorite_book('The Abstract Wild')"
   ]
  },
  {
   "cell_type": "code",
   "execution_count": 5,
   "metadata": {},
   "outputs": [
    {
     "name": "stdout",
     "output_type": "stream",
     "text": [
      "Guess the number between 1 & 30: 11\n",
      "The hidden number is greater than 11 \n",
      "\n",
      "Guess the number between 1 & 30: 15\n",
      "The hidden number is greater than 15 \n",
      "\n",
      "Guess the number between 1 & 30: 20\n",
      "congrats!\n",
      "Correct guess!\n",
      "\n"
     ]
    }
   ],
   "source": [
    "#Answer no.5\n",
    "import random\n",
    "it = random.randint(1,30)\n",
    "def main():\n",
    "    a = int(input(\"Guess the number between 1 & 30: \"))\n",
    "    if a == it:\n",
    "        print(\"congrats!\"+ \"\\n\" + \"Correct guess!\" + \"\\n\")\n",
    "    elif a > it:\n",
    "        print(\"The hidden number is less than\", a, \"\\n\")\n",
    "        main()\n",
    "    else:\n",
    "        print(\"The hidden number is greater than\", a, \"\\n\")\n",
    "        main()\n",
    "main()"
   ]
  },
  {
   "cell_type": "code",
   "execution_count": null,
   "metadata": {},
   "outputs": [],
   "source": []
  }
 ],
 "metadata": {
  "kernelspec": {
   "display_name": "Python 3",
   "language": "python",
   "name": "python3"
  },
  "language_info": {
   "codemirror_mode": {
    "name": "ipython",
    "version": 3
   },
   "file_extension": ".py",
   "mimetype": "text/x-python",
   "name": "python",
   "nbconvert_exporter": "python",
   "pygments_lexer": "ipython3",
   "version": "3.7.4"
  }
 },
 "nbformat": 4,
 "nbformat_minor": 2
}
