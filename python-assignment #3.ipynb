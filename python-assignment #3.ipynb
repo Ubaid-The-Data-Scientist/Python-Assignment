{
 "cells": [
  {
   "cell_type": "code",
   "execution_count": 1,
   "metadata": {},
   "outputs": [
    {
     "name": "stdout",
     "output_type": "stream",
     "text": [
      "Enter first value: 5\n",
      "Enter second value: 3\n",
      "Enter operator: **\n",
      "Answer:  125\n"
     ]
    }
   ],
   "source": [
    "#Answer no.1\n",
    "val1 = int(input(\"Enter first value: \"))\n",
    "val2 = int(input(\"Enter second value: \"))\n",
    "oper = input(\"Enter operator: \")\n",
    "\n",
    "if oper == \"+\":\n",
    "  val = val1 + val2\n",
    "  print(\"Answer: \",val)\n",
    "elif oper == \"-\":\n",
    "  val = val1 - val2\n",
    "  print(\"Answer: \",val)\n",
    "elif oper == \"*\":\n",
    "  val = val1 * val2\n",
    "  print(\"Answer: \",val)\n",
    "elif oper == \"/\":\n",
    "  val = val1 / val2\n",
    "  print(\"Answer: \",val)\n",
    "elif oper == \"**\":\n",
    "  val = val1 ** val2\n",
    "  print(\"Answer: \",val)\n",
    "else:\n",
    "    print(\"Error!\\nPlease enter correct operator\")"
   ]
  },
  {
   "cell_type": "code",
   "execution_count": 2,
   "metadata": {},
   "outputs": [
    {
     "name": "stdout",
     "output_type": "stream",
     "text": [
      "Numeric value found: 18\n",
      "Numeric value found: 14\n",
      "Numeric value found: 50\n",
      "Numeric value found: 99\n"
     ]
    }
   ],
   "source": [
    "#Answer no.2\n",
    "list1 = [\"ubaid\",\"owais\",\"imran\",18,14,50,99]\n",
    "\n",
    "for a in list1:\n",
    "   if type(a) == int:\n",
    "    print(\"Numeric value found:\", a)"
   ]
  },
  {
   "cell_type": "code",
   "execution_count": 3,
   "metadata": {},
   "outputs": [
    {
     "name": "stdout",
     "output_type": "stream",
     "text": [
      "Enter key to add: Address\n",
      "Enter value of key: Liaquatabad\n",
      "{'Name': 'ubaid', 'College': 'D.J Science', 'Age': 18, 'Education': 'Inter', 'Address': 'Liaquatabad'}\n"
     ]
    }
   ],
   "source": [
    "#Answer no.3\n",
    "info = {\"Name\":\"ubaid\",\n",
    "        \"College\":\"D.J Science\",\n",
    "        \"Age\":18,\n",
    "        \"Education\":\"Inter\"}\n",
    "\n",
    "a = input(\"Enter key to add: \")\n",
    "b = input(\"Enter value of key: \")\n",
    "\n",
    "info[a] = b\n",
    "print(info)"
   ]
  },
  {
   "cell_type": "code",
   "execution_count": 1,
   "metadata": {},
   "outputs": [
    {
     "name": "stdout",
     "output_type": "stream",
     "text": [
      "78\n"
     ]
    }
   ],
   "source": [
    "#Answer no.4\n",
    "age = {\"ubaid\":18,\n",
    "        \"salman\":20,\n",
    "        \"zaka\":19,\n",
    "        \"azeem\":21}\n",
    "\n",
    "sum1 = sum(age.values())\n",
    "print(sum1)"
   ]
  },
  {
   "cell_type": "code",
   "execution_count": 3,
   "metadata": {},
   "outputs": [
    {
     "name": "stdout",
     "output_type": "stream",
     "text": [
      "Duplicate value: 1\n",
      "Duplicate value: 1\n",
      "Duplicate value: 0.4\n",
      "Duplicate value: 0.4\n",
      "Duplicate value: ali\n",
      "Duplicate value: ali\n"
     ]
    }
   ],
   "source": [
    "#Answer no.5\n",
    "list2 = [\"ubaid\", 1, 1, 0.4, 0.4, \"ali\", 3, 4, 5, \"ali\"]\n",
    "for a in list2:\n",
    "    if  list2.count(a) > 1:\n",
    "        print(\"Duplicate value:\", a)"
   ]
  },
  {
   "cell_type": "code",
   "execution_count": 4,
   "metadata": {},
   "outputs": [
    {
     "name": "stdout",
     "output_type": "stream",
     "text": [
      "Enter your country rank: 3\n",
      "No,your country not found\n",
      "No,your country not found\n",
      "Yess,your country is on number 3\n"
     ]
    }
   ],
   "source": [
    "#Answer no.6\n",
    "rankings = { 1: \"Pakistan\",\n",
    "            2: \"Turkey\",\n",
    "            3: \"China\"}\n",
    "\n",
    "a = int(input(\"Enter your country rank: \"))\n",
    "\n",
    "for key in rankings.keys():\n",
    "    if key == a:\n",
    "        print(\"Yess,your country is on number\", a)\n",
    "    else:\n",
    "        print(\"No,your country not found\")"
   ]
  },
  {
   "cell_type": "code",
   "execution_count": null,
   "metadata": {},
   "outputs": [],
   "source": []
  }
 ],
 "metadata": {
  "kernelspec": {
   "display_name": "Python 3",
   "language": "python",
   "name": "python3"
  },
  "language_info": {
   "codemirror_mode": {
    "name": "ipython",
    "version": 3
   },
   "file_extension": ".py",
   "mimetype": "text/x-python",
   "name": "python",
   "nbconvert_exporter": "python",
   "pygments_lexer": "ipython3",
   "version": "3.7.4"
  }
 },
 "nbformat": 4,
 "nbformat_minor": 2
}
